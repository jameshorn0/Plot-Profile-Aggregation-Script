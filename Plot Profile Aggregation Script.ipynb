{
 "cells": [
  {
   "cell_type": "code",
   "execution_count": 32,
   "metadata": {
    "executionInfo": {
     "elapsed": 665,
     "status": "ok",
     "timestamp": 1668433795084,
     "user": {
      "displayName": "James Horn",
      "userId": "14017842129923928819"
     },
     "user_tz": 0
    },
    "id": "N097QXVl6l55"
   },
   "outputs": [],
   "source": [
    "# Import various modules\n",
    "import pandas as pd\n",
    "import math as math\n",
    "import datetime\n",
    "from pathlib import Path\n",
    "from datetime import datetime\n",
    "start = datetime.now()"
   ]
  },
  {
   "cell_type": "code",
   "execution_count": 33,
   "metadata": {
    "executionInfo": {
     "elapsed": 2021,
     "status": "ok",
     "timestamp": 1668436184474,
     "user": {
      "displayName": "James Horn",
      "userId": "14017842129923928819"
     },
     "user_tz": 0
    },
    "id": "R-uSuY8O9F7d"
   },
   "outputs": [],
   "source": [
    "# Reads entire document, creates a dictionary of the spreadsheet\n",
    "path = \"C:/Users/j4mes/Jupyter/IF Analysis/Plot Profile Format Test Data.xlsx\"\n",
    "filename = Path(path).name\n",
    "all = pd.read_excel(path, index_col=0, sheet_name = None, header = None)"
   ]
  },
  {
   "cell_type": "code",
   "execution_count": 34,
   "metadata": {
    "colab": {
     "base_uri": "https://localhost:8080/"
    },
    "executionInfo": {
     "elapsed": 2,
     "status": "ok",
     "timestamp": 1668436159446,
     "user": {
      "displayName": "James Horn",
      "userId": "14017842129923928819"
     },
     "user_tz": 0
    },
    "id": "rEG5Qbb_cYtO",
    "outputId": "a45e18a3-e58b-42d5-ed03-4eca7d2e7ad2"
   },
   "outputs": [],
   "source": [
    "dict_one = {}\n",
    "for sheet in all:\n",
    "    key = sheet\n",
    "    dict_one[key] = all[f\"{sheet}\"]"
   ]
  },
  {
   "cell_type": "code",
   "execution_count": 35,
   "metadata": {},
   "outputs": [],
   "source": [
    "def create_ind_df(key):\n",
    "    a = pd.DataFrame(data = dict_one[f\"{key}\"])\n",
    "    a[f\"{key} Mean\"] = [a.iloc[x].mean() for x in range(len(a.index))] \n",
    "    a.index = [x*0.4408 for x in range(len(a[f'{key} Mean']))]\n",
    "    return a[f'{key} Mean']"
   ]
  },
  {
   "cell_type": "code",
   "execution_count": 36,
   "metadata": {},
   "outputs": [],
   "source": [
    "means = []\n",
    "def create_dfs(keys):\n",
    "    for key in keys:\n",
    "        a = pd.DataFrame(data = dict_one[f\"{key}\"])\n",
    "        a[f\"{key}\"] = [a.iloc[x].mean() for x in range(len(a.index))] \n",
    "        a.index = [x*0.4408 for x in range(len(a[f'{key}']))]\n",
    "        b = pd.DataFrame(data = a[f'{key}'])\n",
    "        means.append(b)\n",
    "    means_df = pd.concat([df for df in means], axis=1)\n",
    "    return means_df\n",
    "    "
   ]
  },
  {
   "cell_type": "code",
   "execution_count": 37,
   "metadata": {},
   "outputs": [],
   "source": [
    "a = create_dfs([key for key in dict_one.keys()])"
   ]
  },
  {
   "cell_type": "code",
   "execution_count": 38,
   "metadata": {},
   "outputs": [],
   "source": [
    "a = a.iloc[:math.ceil(len(a.index)/2)]"
   ]
  },
  {
   "cell_type": "code",
   "execution_count": 39,
   "metadata": {},
   "outputs": [],
   "source": [
    "with pd.ExcelWriter(f\"{datetime.today().strftime('%y_%m_%d')} {filename[:-5]} Means{filename[-5:]}\") as writer:\n",
    "    a.to_excel(writer, sheet_name='Mean')"
   ]
  },
  {
   "cell_type": "code",
   "execution_count": 40,
   "metadata": {},
   "outputs": [
    {
     "name": "stdout",
     "output_type": "stream",
     "text": [
      "Program was run in 0:00:02.127933\n"
     ]
    }
   ],
   "source": [
    "print(f\"Program was run in {datetime.now() - start}\")"
   ]
  }
 ],
 "metadata": {
  "colab": {
   "authorship_tag": "ABX9TyPCuVZHByp8N/LMSbylGJCn",
   "collapsed_sections": [],
   "provenance": []
  },
  "kernelspec": {
   "display_name": "Python 3 (ipykernel)",
   "language": "python",
   "name": "python3"
  },
  "language_info": {
   "codemirror_mode": {
    "name": "ipython",
    "version": 3
   },
   "file_extension": ".py",
   "mimetype": "text/x-python",
   "name": "python",
   "nbconvert_exporter": "python",
   "pygments_lexer": "ipython3",
   "version": "3.9.13"
  }
 },
 "nbformat": 4,
 "nbformat_minor": 4
}
